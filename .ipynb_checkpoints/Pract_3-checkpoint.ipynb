{
 "cells": [
  {
   "cell_type": "markdown",
   "id": "e3649821-8dfe-419f-9f7d-d7a9ff51f2d8",
   "metadata": {},
   "source": [
    "### Ejercicio N° 1"
   ]
  },
  {
   "cell_type": "markdown",
   "id": "161caa2b-f810-4560-822e-d4ea011f2db9",
   "metadata": {},
   "source": [
    "El dataset winequality-red.csv contiene un conjunto de variables relacionadas con propiedades fisicoquímicas que fueron determinadas sobre una serie de vinos de una misma variedad, así como un puntaje asignado en cada caso por un panel de enólogos en sesiones de cata. Importe el dataset al entorno de trabajo y realice cualquier tipo de limpieza y adecuación del mismo que considere necesaria para su posterior análisis."
   ]
  },
  {
   "cell_type": "code",
   "execution_count": 3,
   "id": "8b41bc89-f73c-43bc-bfe1-447d50383129",
   "metadata": {},
   "outputs": [],
   "source": [
    "import pandas as pd"
   ]
  },
  {
   "cell_type": "code",
   "execution_count": 4,
   "id": "e50a9882-59f9-4c3f-825c-700a4900d2bc",
   "metadata": {},
   "outputs": [
    {
     "data": {
      "text/html": [
       "<div>\n",
       "<style scoped>\n",
       "    .dataframe tbody tr th:only-of-type {\n",
       "        vertical-align: middle;\n",
       "    }\n",
       "\n",
       "    .dataframe tbody tr th {\n",
       "        vertical-align: top;\n",
       "    }\n",
       "\n",
       "    .dataframe thead th {\n",
       "        text-align: right;\n",
       "    }\n",
       "</style>\n",
       "<table border=\"1\" class=\"dataframe\">\n",
       "  <thead>\n",
       "    <tr style=\"text-align: right;\">\n",
       "      <th></th>\n",
       "      <th>fixed acidity</th>\n",
       "      <th>volatile acidity</th>\n",
       "      <th>citric acid</th>\n",
       "      <th>residual sugar</th>\n",
       "      <th>chlorides</th>\n",
       "      <th>free sulfur dioxide</th>\n",
       "      <th>total sulfur dioxide</th>\n",
       "      <th>density</th>\n",
       "      <th>pH</th>\n",
       "      <th>sulphates</th>\n",
       "      <th>alcohol</th>\n",
       "      <th>quality</th>\n",
       "    </tr>\n",
       "  </thead>\n",
       "  <tbody>\n",
       "    <tr>\n",
       "      <th>0</th>\n",
       "      <td>7.4</td>\n",
       "      <td>0.70</td>\n",
       "      <td>0.00</td>\n",
       "      <td>1.9</td>\n",
       "      <td>0.076</td>\n",
       "      <td>11.0</td>\n",
       "      <td>34.0</td>\n",
       "      <td>0.9978</td>\n",
       "      <td>3.51</td>\n",
       "      <td>0.56</td>\n",
       "      <td>9.4</td>\n",
       "      <td>5</td>\n",
       "    </tr>\n",
       "    <tr>\n",
       "      <th>1</th>\n",
       "      <td>7.8</td>\n",
       "      <td>0.88</td>\n",
       "      <td>0.00</td>\n",
       "      <td>2.6</td>\n",
       "      <td>0.098</td>\n",
       "      <td>25.0</td>\n",
       "      <td>67.0</td>\n",
       "      <td>0.9968</td>\n",
       "      <td>3.20</td>\n",
       "      <td>0.68</td>\n",
       "      <td>9.8</td>\n",
       "      <td>5</td>\n",
       "    </tr>\n",
       "    <tr>\n",
       "      <th>2</th>\n",
       "      <td>7.8</td>\n",
       "      <td>0.76</td>\n",
       "      <td>0.04</td>\n",
       "      <td>2.3</td>\n",
       "      <td>0.092</td>\n",
       "      <td>15.0</td>\n",
       "      <td>54.0</td>\n",
       "      <td>0.9970</td>\n",
       "      <td>3.26</td>\n",
       "      <td>0.65</td>\n",
       "      <td>9.8</td>\n",
       "      <td>5</td>\n",
       "    </tr>\n",
       "    <tr>\n",
       "      <th>3</th>\n",
       "      <td>11.2</td>\n",
       "      <td>0.28</td>\n",
       "      <td>0.56</td>\n",
       "      <td>1.9</td>\n",
       "      <td>0.075</td>\n",
       "      <td>17.0</td>\n",
       "      <td>60.0</td>\n",
       "      <td>0.9980</td>\n",
       "      <td>3.16</td>\n",
       "      <td>0.58</td>\n",
       "      <td>9.8</td>\n",
       "      <td>6</td>\n",
       "    </tr>\n",
       "    <tr>\n",
       "      <th>4</th>\n",
       "      <td>7.4</td>\n",
       "      <td>0.70</td>\n",
       "      <td>0.00</td>\n",
       "      <td>1.9</td>\n",
       "      <td>0.076</td>\n",
       "      <td>11.0</td>\n",
       "      <td>34.0</td>\n",
       "      <td>0.9978</td>\n",
       "      <td>3.51</td>\n",
       "      <td>0.56</td>\n",
       "      <td>9.4</td>\n",
       "      <td>5</td>\n",
       "    </tr>\n",
       "  </tbody>\n",
       "</table>\n",
       "</div>"
      ],
      "text/plain": [
       "   fixed acidity  volatile acidity  citric acid  residual sugar  chlorides  \\\n",
       "0            7.4              0.70         0.00             1.9      0.076   \n",
       "1            7.8              0.88         0.00             2.6      0.098   \n",
       "2            7.8              0.76         0.04             2.3      0.092   \n",
       "3           11.2              0.28         0.56             1.9      0.075   \n",
       "4            7.4              0.70         0.00             1.9      0.076   \n",
       "\n",
       "   free sulfur dioxide  total sulfur dioxide  density    pH  sulphates  \\\n",
       "0                 11.0                  34.0   0.9978  3.51       0.56   \n",
       "1                 25.0                  67.0   0.9968  3.20       0.68   \n",
       "2                 15.0                  54.0   0.9970  3.26       0.65   \n",
       "3                 17.0                  60.0   0.9980  3.16       0.58   \n",
       "4                 11.0                  34.0   0.9978  3.51       0.56   \n",
       "\n",
       "   alcohol  quality  \n",
       "0      9.4        5  \n",
       "1      9.8        5  \n",
       "2      9.8        5  \n",
       "3      9.8        6  \n",
       "4      9.4        5  "
      ]
     },
     "execution_count": 4,
     "metadata": {},
     "output_type": "execute_result"
    }
   ],
   "source": [
    "data_wine = pd.read_csv(r'C:\\Users\\icrui\\Documents\\DS-ML\\FCEIA\\3° cuatrimestre\\Fundamentos_Cs_Datos\\Unidad3\\Datasets\\winequality-red.csv')\n",
    "data_wine.head()"
   ]
  },
  {
   "cell_type": "code",
   "execution_count": 5,
   "id": "aac36dda-e492-4604-9be4-72d91cea3248",
   "metadata": {},
   "outputs": [
    {
     "data": {
      "text/plain": [
       "fixed acidity           0\n",
       "volatile acidity        0\n",
       "citric acid             0\n",
       "residual sugar          0\n",
       "chlorides               0\n",
       "free sulfur dioxide     0\n",
       "total sulfur dioxide    0\n",
       "density                 0\n",
       "pH                      0\n",
       "sulphates               0\n",
       "alcohol                 0\n",
       "quality                 0\n",
       "dtype: int64"
      ]
     },
     "execution_count": 5,
     "metadata": {},
     "output_type": "execute_result"
    }
   ],
   "source": [
    "data_wine.isna().sum() # no hay datos null"
   ]
  },
  {
   "cell_type": "code",
   "execution_count": 6,
   "id": "d5254532-2224-43eb-98e8-dc87ea6f51af",
   "metadata": {},
   "outputs": [
    {
     "name": "stdout",
     "output_type": "stream",
     "text": [
      "<class 'pandas.core.frame.DataFrame'>\n",
      "RangeIndex: 1599 entries, 0 to 1598\n",
      "Data columns (total 12 columns):\n",
      " #   Column                Non-Null Count  Dtype  \n",
      "---  ------                --------------  -----  \n",
      " 0   fixed acidity         1599 non-null   float64\n",
      " 1   volatile acidity      1599 non-null   float64\n",
      " 2   citric acid           1599 non-null   float64\n",
      " 3   residual sugar        1599 non-null   float64\n",
      " 4   chlorides             1599 non-null   float64\n",
      " 5   free sulfur dioxide   1599 non-null   float64\n",
      " 6   total sulfur dioxide  1599 non-null   float64\n",
      " 7   density               1599 non-null   float64\n",
      " 8   pH                    1599 non-null   float64\n",
      " 9   sulphates             1599 non-null   float64\n",
      " 10  alcohol               1599 non-null   float64\n",
      " 11  quality               1599 non-null   int64  \n",
      "dtypes: float64(11), int64(1)\n",
      "memory usage: 150.0 KB\n"
     ]
    }
   ],
   "source": [
    "data_wine.info() # los formatos de los datos ya estan normalizados"
   ]
  },
  {
   "cell_type": "code",
   "execution_count": 7,
   "id": "e59de369-8acd-4316-8ccf-c931c28c1f40",
   "metadata": {},
   "outputs": [
    {
     "data": {
      "text/html": [
       "<div>\n",
       "<style scoped>\n",
       "    .dataframe tbody tr th:only-of-type {\n",
       "        vertical-align: middle;\n",
       "    }\n",
       "\n",
       "    .dataframe tbody tr th {\n",
       "        vertical-align: top;\n",
       "    }\n",
       "\n",
       "    .dataframe thead th {\n",
       "        text-align: right;\n",
       "    }\n",
       "</style>\n",
       "<table border=\"1\" class=\"dataframe\">\n",
       "  <thead>\n",
       "    <tr style=\"text-align: right;\">\n",
       "      <th></th>\n",
       "      <th>fixed_acidity</th>\n",
       "      <th>volatile_acidity</th>\n",
       "      <th>citric_acid</th>\n",
       "      <th>residual_sugar</th>\n",
       "      <th>chlorides</th>\n",
       "      <th>free_sulfur_dioxide</th>\n",
       "      <th>total_sulfur_dioxide</th>\n",
       "      <th>density</th>\n",
       "      <th>pH</th>\n",
       "      <th>sulphates</th>\n",
       "      <th>alcohol</th>\n",
       "      <th>quality</th>\n",
       "    </tr>\n",
       "  </thead>\n",
       "  <tbody>\n",
       "    <tr>\n",
       "      <th>0</th>\n",
       "      <td>7.4</td>\n",
       "      <td>0.70</td>\n",
       "      <td>0.00</td>\n",
       "      <td>1.9</td>\n",
       "      <td>0.076</td>\n",
       "      <td>11.0</td>\n",
       "      <td>34.0</td>\n",
       "      <td>0.9978</td>\n",
       "      <td>3.51</td>\n",
       "      <td>0.56</td>\n",
       "      <td>9.4</td>\n",
       "      <td>5</td>\n",
       "    </tr>\n",
       "    <tr>\n",
       "      <th>1</th>\n",
       "      <td>7.8</td>\n",
       "      <td>0.88</td>\n",
       "      <td>0.00</td>\n",
       "      <td>2.6</td>\n",
       "      <td>0.098</td>\n",
       "      <td>25.0</td>\n",
       "      <td>67.0</td>\n",
       "      <td>0.9968</td>\n",
       "      <td>3.20</td>\n",
       "      <td>0.68</td>\n",
       "      <td>9.8</td>\n",
       "      <td>5</td>\n",
       "    </tr>\n",
       "    <tr>\n",
       "      <th>2</th>\n",
       "      <td>7.8</td>\n",
       "      <td>0.76</td>\n",
       "      <td>0.04</td>\n",
       "      <td>2.3</td>\n",
       "      <td>0.092</td>\n",
       "      <td>15.0</td>\n",
       "      <td>54.0</td>\n",
       "      <td>0.9970</td>\n",
       "      <td>3.26</td>\n",
       "      <td>0.65</td>\n",
       "      <td>9.8</td>\n",
       "      <td>5</td>\n",
       "    </tr>\n",
       "    <tr>\n",
       "      <th>3</th>\n",
       "      <td>11.2</td>\n",
       "      <td>0.28</td>\n",
       "      <td>0.56</td>\n",
       "      <td>1.9</td>\n",
       "      <td>0.075</td>\n",
       "      <td>17.0</td>\n",
       "      <td>60.0</td>\n",
       "      <td>0.9980</td>\n",
       "      <td>3.16</td>\n",
       "      <td>0.58</td>\n",
       "      <td>9.8</td>\n",
       "      <td>6</td>\n",
       "    </tr>\n",
       "    <tr>\n",
       "      <th>4</th>\n",
       "      <td>7.4</td>\n",
       "      <td>0.70</td>\n",
       "      <td>0.00</td>\n",
       "      <td>1.9</td>\n",
       "      <td>0.076</td>\n",
       "      <td>11.0</td>\n",
       "      <td>34.0</td>\n",
       "      <td>0.9978</td>\n",
       "      <td>3.51</td>\n",
       "      <td>0.56</td>\n",
       "      <td>9.4</td>\n",
       "      <td>5</td>\n",
       "    </tr>\n",
       "  </tbody>\n",
       "</table>\n",
       "</div>"
      ],
      "text/plain": [
       "   fixed_acidity  volatile_acidity  citric_acid  residual_sugar  chlorides  \\\n",
       "0            7.4              0.70         0.00             1.9      0.076   \n",
       "1            7.8              0.88         0.00             2.6      0.098   \n",
       "2            7.8              0.76         0.04             2.3      0.092   \n",
       "3           11.2              0.28         0.56             1.9      0.075   \n",
       "4            7.4              0.70         0.00             1.9      0.076   \n",
       "\n",
       "   free_sulfur_dioxide  total_sulfur_dioxide  density    pH  sulphates  \\\n",
       "0                 11.0                  34.0   0.9978  3.51       0.56   \n",
       "1                 25.0                  67.0   0.9968  3.20       0.68   \n",
       "2                 15.0                  54.0   0.9970  3.26       0.65   \n",
       "3                 17.0                  60.0   0.9980  3.16       0.58   \n",
       "4                 11.0                  34.0   0.9978  3.51       0.56   \n",
       "\n",
       "   alcohol  quality  \n",
       "0      9.4        5  \n",
       "1      9.8        5  \n",
       "2      9.8        5  \n",
       "3      9.8        6  \n",
       "4      9.4        5  "
      ]
     },
     "execution_count": 7,
     "metadata": {},
     "output_type": "execute_result"
    }
   ],
   "source": [
    "data_wine.columns = data_wine.columns.str.replace(' ', '_') # solo se cambian los espacios de los nombres por _\n",
    "data_wine.head()"
   ]
  },
  {
   "cell_type": "markdown",
   "id": "cd76f219-3fc9-4f3b-b5e3-dbadd9a2c39a",
   "metadata": {},
   "source": [
    "  "
   ]
  },
  {
   "cell_type": "markdown",
   "id": "d7f921d8-5bf3-466b-a04b-3dbddf611a7e",
   "metadata": {},
   "source": [
    "**Clasifique las variables del dataset en cualitativas, cuantitativas discretas y cuantitativas continuas.**"
   ]
  },
  {
   "cell_type": "code",
   "execution_count": 10,
   "id": "ea588fee-a323-4c81-b7fc-ca3faf465ba5",
   "metadata": {},
   "outputs": [
    {
     "data": {
      "text/plain": [
       "array([5, 6, 7, 4, 8, 3], dtype=int64)"
      ]
     },
     "execution_count": 10,
     "metadata": {},
     "output_type": "execute_result"
    }
   ],
   "source": [
    "data_wine.quality.unique() # variable cualitativa ordinal"
   ]
  },
  {
   "cell_type": "code",
   "execution_count": 11,
   "id": "a028a5dd-ea9b-4303-b722-c35e1b3327e5",
   "metadata": {},
   "outputs": [
    {
     "data": {
      "text/plain": [
       "array([11. , 25. , 15. , 17. , 13. ,  9. , 16. , 52. , 51. , 35. ,  6. ,\n",
       "       29. , 23. , 10. , 21. ,  4. , 14. ,  8. , 22. , 40. ,  5. ,  3. ,\n",
       "        7. , 12. , 30. , 33. , 50. , 19. , 20. , 27. , 18. , 28. , 34. ,\n",
       "       42. , 41. , 37. , 32. , 36. , 24. , 26. , 39. , 40.5, 68. , 31. ,\n",
       "       38. , 43. , 47. ,  1. , 54. , 46. , 45. ,  2. ,  5.5, 53. , 37.5,\n",
       "       57. , 48. , 72. , 55. , 66. ])"
      ]
     },
     "execution_count": 11,
     "metadata": {},
     "output_type": "execute_result"
    }
   ],
   "source": [
    "data_wine.free_sulfur_dioxide.unique()"
   ]
  },
  {
   "cell_type": "markdown",
   "id": "ca7726f7-8276-441a-98cb-25c9e949e4e2",
   "metadata": {},
   "source": [
    "Dada la información anterior impresa por la función .head() e .info(), parece que todas las columnas, salvo quality, son variables cuantitativas continuas"
   ]
  },
  {
   "cell_type": "markdown",
   "id": "1f353ee9-e89d-4f3e-bda0-379350cb503f",
   "metadata": {},
   "source": [
    "**El 25% de los vinos del dataset tiene un contenido de alcohol superior a… ¿qué valor?**"
   ]
  },
  {
   "cell_type": "code",
   "execution_count": 14,
   "id": "f4fcc933-454f-410b-93df-d749e4bcb67d",
   "metadata": {},
   "outputs": [
    {
     "data": {
      "text/plain": [
       "9.5"
      ]
     },
     "execution_count": 14,
     "metadata": {},
     "output_type": "execute_result"
    }
   ],
   "source": [
    "data_wine['alcohol'].quantile(0.25) # 25% tiene este valor o inferior"
   ]
  },
  {
   "cell_type": "code",
   "execution_count": 15,
   "id": "b11bc903-fb1c-427c-ba1c-6136179ff56c",
   "metadata": {},
   "outputs": [
    {
     "data": {
      "text/plain": [
       "11.1"
      ]
     },
     "execution_count": 15,
     "metadata": {},
     "output_type": "execute_result"
    }
   ],
   "source": [
    "data_wine['alcohol'].quantile(0.75) # el tercer cuartil esta por encima de 9.5"
   ]
  },
  {
   "cell_type": "markdown",
   "id": "5bac4592-efb1-4c98-961a-f8e14811f922",
   "metadata": {},
   "source": [
    "**Realice una tabla en la que se presenten, para las variables densidad y pH, únicamente las siguientes medidas descriptivas: media, mediana, desvío estándar y rango intercuartil. A continuación, responda a las siguientes preguntas sin realizar ningún gráfico:**\r\n",
    "\n",
    "\r\n",
    "¿Cómo describiría ambas distribuciones en relación a sus características de simetrí \n",
    "\r\n",
    "\r\n",
    "¿Cuál de los dos conjuntos de observaciones (densidad o pH) presenta mayor variabilidad?"
   ]
  },
  {
   "cell_type": "code",
   "execution_count": 17,
   "id": "81b68b6d-aae1-476a-a819-d079fc42a269",
   "metadata": {},
   "outputs": [],
   "source": [
    "densidad_ph_data = data_wine[['density','pH']]\n",
    "medias = densidad_ph_data.mean()\n",
    "mediana = densidad_ph_data.median()\n",
    "desv_est = densidad_ph_data.std()\n",
    "iqr = densidad_ph_data.quantile(0.75) - densidad_ph_data.quantile(0.25)"
   ]
  },
  {
   "cell_type": "code",
   "execution_count": 18,
   "id": "2b67ed6c-fc19-4e6a-a30d-7cb2dfdeb6f0",
   "metadata": {},
   "outputs": [
    {
     "data": {
      "text/html": [
       "<div>\n",
       "<style scoped>\n",
       "    .dataframe tbody tr th:only-of-type {\n",
       "        vertical-align: middle;\n",
       "    }\n",
       "\n",
       "    .dataframe tbody tr th {\n",
       "        vertical-align: top;\n",
       "    }\n",
       "\n",
       "    .dataframe thead th {\n",
       "        text-align: right;\n",
       "    }\n",
       "</style>\n",
       "<table border=\"1\" class=\"dataframe\">\n",
       "  <thead>\n",
       "    <tr style=\"text-align: right;\">\n",
       "      <th></th>\n",
       "      <th>media</th>\n",
       "      <th>mediana</th>\n",
       "      <th>desvío estándar</th>\n",
       "      <th>IQR</th>\n",
       "    </tr>\n",
       "  </thead>\n",
       "  <tbody>\n",
       "    <tr>\n",
       "      <th>density</th>\n",
       "      <td>0.996747</td>\n",
       "      <td>0.99675</td>\n",
       "      <td>0.001887</td>\n",
       "      <td>0.002235</td>\n",
       "    </tr>\n",
       "    <tr>\n",
       "      <th>pH</th>\n",
       "      <td>3.311113</td>\n",
       "      <td>3.31000</td>\n",
       "      <td>0.154386</td>\n",
       "      <td>0.190000</td>\n",
       "    </tr>\n",
       "  </tbody>\n",
       "</table>\n",
       "</div>"
      ],
      "text/plain": [
       "            media  mediana  desvío estándar       IQR\n",
       "density  0.996747  0.99675         0.001887  0.002235\n",
       "pH       3.311113  3.31000         0.154386  0.190000"
      ]
     },
     "execution_count": 18,
     "metadata": {},
     "output_type": "execute_result"
    }
   ],
   "source": [
    "tabla_resumen = pd.DataFrame({\n",
    "    'media': medias,\n",
    "    'mediana': mediana,\n",
    "    'desvío estándar': desv_est,\n",
    "    'IQR': iqr\n",
    "})\n",
    "tabla_resumen"
   ]
  },
  {
   "cell_type": "markdown",
   "id": "aa655968-9948-4fab-8546-19de0668bfa7",
   "metadata": {},
   "source": [
    "Ya que en ambos casos la media y la mediana tienen valores similares, es probable que las dos tengan una distribución simétrica, del estilo normal. Por otro lado, pH tiene más variabilidad, dada la información sobre desvío y IQR."
   ]
  },
  {
   "cell_type": "markdown",
   "id": "16969c44-c7ee-4a5c-b62d-44f9c26865e2",
   "metadata": {},
   "source": [
    "**Represente la distribución de las observaciones de la variable contenido de alcohol (alcohol) a través de un boxplot. Sugerencia: utilice la función sns.boxplot() de la librería seaborn. Basándose en el gráfico, ¿cuál de las siguientes medidas de posición o centralidad (media aritmética/mediana) le parece más adecuada para describir a esta variable?**"
   ]
  },
  {
   "cell_type": "code",
   "execution_count": 21,
   "id": "cebbeeff-a65a-4583-9d53-a97f849d89c9",
   "metadata": {},
   "outputs": [],
   "source": [
    "data_boxplot = data_wine['alcohol']"
   ]
  },
  {
   "cell_type": "code",
   "execution_count": 22,
   "id": "b1a40e8e-4d96-4d1e-b149-fffe2e40cc5c",
   "metadata": {},
   "outputs": [],
   "source": [
    "import seaborn as sns\n",
    "import matplotlib.pyplot as plt"
   ]
  },
  {
   "cell_type": "code",
   "execution_count": 23,
   "id": "f3594010-20a8-40d6-82b7-0b647051637c",
   "metadata": {},
   "outputs": [
    {
     "data": {
      "image/png": "[encoded data removed]",
      "text/plain": [
       "<Figure size 600x400 with 1 Axes>"
      ]
     },
     "metadata": {},
     "output_type": "display_data"
    }
   ],
   "source": [
    "plt.figure(figsize=(6,4))\n",
    "sns.boxplot(x=data_boxplot)\n",
    "plt.title('Boxplot sobre el contenido de alcohol')\n",
    "plt.xlabel('Contenido de alcohol')\n",
    "plt.show()"
   ]
  },
  {
   "cell_type": "markdown",
   "id": "92c01e16-670d-460a-8c16-0729315671e7",
   "metadata": {},
   "source": [
    "Teniendo en cuenta el boxplot resultante, esta variable posee al menos tres outliers (valores atípicos), por lo que la media aritmética podría verse afectada; no sería realmente representativa. Por lo tanto, la mediana, que es una medida más robusta, podría ser mejor para representar esta variable."
   ]
  },
  {
   "cell_type": "markdown",
   "id": "341170a4-ba02-4a55-a5ae-4ffcdd3db6f5",
   "metadata": {},
   "source": [
    "**Realice una tabla de frecuencias para resumir la distribución de los vinos del dataset en función del puntaje asignado según su calidad (quality).**"
   ]
  },
  {
   "cell_type": "code",
   "execution_count": 26,
   "id": "bce8110e-28ea-4d5f-b101-a5ec219ddb55",
   "metadata": {},
   "outputs": [
    {
     "data": {
      "text/html": [
       "<div>\n",
       "<style scoped>\n",
       "    .dataframe tbody tr th:only-of-type {\n",
       "        vertical-align: middle;\n",
       "    }\n",
       "\n",
       "    .dataframe tbody tr th {\n",
       "        vertical-align: top;\n",
       "    }\n",
       "\n",
       "    .dataframe thead th {\n",
       "        text-align: right;\n",
       "    }\n",
       "</style>\n",
       "<table border=\"1\" class=\"dataframe\">\n",
       "  <thead>\n",
       "    <tr style=\"text-align: right;\">\n",
       "      <th></th>\n",
       "      <th>Calificación</th>\n",
       "      <th>Frecuencia</th>\n",
       "      <th>Frecuencia relativa</th>\n",
       "    </tr>\n",
       "  </thead>\n",
       "  <tbody>\n",
       "    <tr>\n",
       "      <th>0</th>\n",
       "      <td>5</td>\n",
       "      <td>681</td>\n",
       "      <td>42.59</td>\n",
       "    </tr>\n",
       "    <tr>\n",
       "      <th>1</th>\n",
       "      <td>6</td>\n",
       "      <td>638</td>\n",
       "      <td>39.90</td>\n",
       "    </tr>\n",
       "    <tr>\n",
       "      <th>2</th>\n",
       "      <td>7</td>\n",
       "      <td>199</td>\n",
       "      <td>12.45</td>\n",
       "    </tr>\n",
       "    <tr>\n",
       "      <th>3</th>\n",
       "      <td>4</td>\n",
       "      <td>53</td>\n",
       "      <td>3.31</td>\n",
       "    </tr>\n",
       "    <tr>\n",
       "      <th>4</th>\n",
       "      <td>8</td>\n",
       "      <td>18</td>\n",
       "      <td>1.13</td>\n",
       "    </tr>\n",
       "    <tr>\n",
       "      <th>5</th>\n",
       "      <td>3</td>\n",
       "      <td>10</td>\n",
       "      <td>0.63</td>\n",
       "    </tr>\n",
       "  </tbody>\n",
       "</table>\n",
       "</div>"
      ],
      "text/plain": [
       "   Calificación  Frecuencia  Frecuencia relativa\n",
       "0             5         681                42.59\n",
       "1             6         638                39.90\n",
       "2             7         199                12.45\n",
       "3             4          53                 3.31\n",
       "4             8          18                 1.13\n",
       "5             3          10                 0.63"
      ]
     },
     "execution_count": 26,
     "metadata": {},
     "output_type": "execute_result"
    }
   ],
   "source": [
    "frec_qualit = data_wine['quality'].value_counts().reset_index()\n",
    "frec_qualit.columns = ['Calificación', 'Frecuencia']\n",
    "# Se agrega una columna para ver su frecuencia relativa en porcentajes\n",
    "frec_qualit['Frecuencia relativa'] =  ((frec_qualit['Frecuencia'] / frec_qualit['Frecuencia'].sum()) * 100).round(2)\n",
    "frec_qualit"
   ]
  },
  {
   "cell_type": "markdown",
   "id": "8b9492d0-df4d-4876-9fb6-38ee5af4c243",
   "metadata": {},
   "source": [
    "Teniendo en cuenta la tabla de frecuencias, el 42.59% de los vinos cargados obtuvieron una calificación de 5 estrellas y solo un 0.63%, solo tres estrellas."
   ]
  },
  {
   "cell_type": "markdown",
   "id": "1668761e-a49c-4145-913e-c085178dbdb2",
   "metadata": {},
   "source": [
    "________________________   "
   ]
  },
  {
   "cell_type": "markdown",
   "id": "e3aa7df5-a1b0-4088-8583-1c859d8e35de",
   "metadata": {},
   "source": [
    "### Ejercicio N° 2"
   ]
  },
  {
   "cell_type": "markdown",
   "id": "eef25989-1da3-4010-b2ea-d49d7b6c2a2a",
   "metadata": {},
   "source": [
    "El dataset alimentos.csv fue elaborado por una clínica de nutrición que suministró a sus pacientes una lista de alimentos permitidos con sus respectivos contenidos calóricos. También se detalló el tipo de alimento del que se trataba (fruta, verdura, etc.) y el tipo de vitamina que aportaba cada uno (A, B o C).\r\n",
    "\r\n",
    "Por otra parte, la nutricionista a cargo del estudio lleva una planilla de control de la evolución de 50 pacientes (pacientes.csv) en la que registra la edad, el sexo, la altura, el peso inicial y el peso final de cada uno de ellos luego de seguir un plan de dieta por una cierta cantidad de tiempo, información que también fue registrada en el campo “tiempo de tratamiento”."
   ]
  },
  {
   "cell_type": "code",
   "execution_count": 31,
   "id": "600ea3d6-3868-439d-81d5-fc8ce281c762",
   "metadata": {},
   "outputs": [],
   "source": [
    "data_alim = pd.read_csv(r'C:\\Users\\icrui\\Documents\\DS-ML\\FCEIA\\3° cuatrimestre\\Fundamentos_Cs_Datos\\Unidad3\\Datasets\\alimentos.csv', encoding='latin1', sep=';')"
   ]
  },
  {
   "cell_type": "code",
   "execution_count": 32,
   "id": "fcd19e33-cedb-4c62-a814-da91bbd5b347",
   "metadata": {},
   "outputs": [],
   "source": [
    "data_pac = pd.read_csv(r'C:\\Users\\icrui\\Documents\\DS-ML\\FCEIA\\3° cuatrimestre\\Fundamentos_Cs_Datos\\Unidad3\\Datasets\\pacientes.csv', encoding='latin1', sep=';')"
   ]
  },
  {
   "cell_type": "markdown",
   "id": "1639b80d-33c8-40e9-81f8-079cd7ded2fc",
   "metadata": {},
   "source": [
    "**Importe ambos datasets al entorno de trabajo y realice cualquier tarea de limpieza y/o adecuación de los mismos que considere necesaria.**"
   ]
  },
  {
   "cell_type": "code",
   "execution_count": 34,
   "id": "a7d639dc-0b59-4d41-91e2-03e97207673d",
   "metadata": {},
   "outputs": [],
   "source": [
    "data_alim.alimento = data_alim.alimento.str.strip()"
   ]
  },
  {
   "cell_type": "code",
   "execution_count": 35,
   "id": "f55ccb18-97aa-440a-ba96-820d612eebad",
   "metadata": {},
   "outputs": [],
   "source": [
    "data_pac.altura_m = data_pac.altura_m.str.replace(',', '.')"
   ]
  },
  {
   "cell_type": "code",
   "execution_count": 36,
   "id": "a09ddb78-65f0-4b6f-9219-f6ddca2d628c",
   "metadata": {},
   "outputs": [],
   "source": [
    "data_pac.altura_m = data_pac.altura_m.astype('float')"
   ]
  },
  {
   "cell_type": "markdown",
   "id": "1e093fdb-e8ab-40ca-931a-94ade34ccf58",
   "metadata": {},
   "source": [
    "**En relación al campo aporte_calorico_kcal informe las medidas descriptivas que le brinden información sobre los siguientes aspectos:**"
   ]
  },
  {
   "cell_type": "markdown",
   "id": "78c8753c-6ab6-4ca5-a1ee-3ff3c6d8e0cf",
   "metadata": {},
   "source": [
    "Las kcal que aportan, en promedio, los alimentos que forman parte del dataset."
   ]
  },
  {
   "cell_type": "code",
   "execution_count": 39,
   "id": "66ca6d28-05ff-4516-8fdb-c4bc3bfce42c",
   "metadata": {},
   "outputs": [
    {
     "data": {
      "text/html": [
       "<div>\n",
       "<style scoped>\n",
       "    .dataframe tbody tr th:only-of-type {\n",
       "        vertical-align: middle;\n",
       "    }\n",
       "\n",
       "    .dataframe tbody tr th {\n",
       "        vertical-align: top;\n",
       "    }\n",
       "\n",
       "    .dataframe thead th {\n",
       "        text-align: right;\n",
       "    }\n",
       "</style>\n",
       "<table border=\"1\" class=\"dataframe\">\n",
       "  <thead>\n",
       "    <tr style=\"text-align: right;\">\n",
       "      <th></th>\n",
       "      <th>alimento</th>\n",
       "      <th>aporte_calorico_kcal</th>\n",
       "    </tr>\n",
       "  </thead>\n",
       "  <tbody>\n",
       "    <tr>\n",
       "      <th>0</th>\n",
       "      <td>hamburguesa</td>\n",
       "      <td>954.0</td>\n",
       "    </tr>\n",
       "    <tr>\n",
       "      <th>1</th>\n",
       "      <td>chocolate con leche</td>\n",
       "      <td>864.0</td>\n",
       "    </tr>\n",
       "    <tr>\n",
       "      <th>2</th>\n",
       "      <td>pan de plátano</td>\n",
       "      <td>820.0</td>\n",
       "    </tr>\n",
       "    <tr>\n",
       "      <th>3</th>\n",
       "      <td>nuez</td>\n",
       "      <td>593.0</td>\n",
       "    </tr>\n",
       "    <tr>\n",
       "      <th>4</th>\n",
       "      <td>pizza</td>\n",
       "      <td>591.0</td>\n",
       "    </tr>\n",
       "    <tr>\n",
       "      <th>...</th>\n",
       "      <td>...</td>\n",
       "      <td>...</td>\n",
       "    </tr>\n",
       "    <tr>\n",
       "      <th>92</th>\n",
       "      <td>guayaba</td>\n",
       "      <td>9.0</td>\n",
       "    </tr>\n",
       "    <tr>\n",
       "      <th>93</th>\n",
       "      <td>rábano</td>\n",
       "      <td>6.0</td>\n",
       "    </tr>\n",
       "    <tr>\n",
       "      <th>94</th>\n",
       "      <td>calabaza</td>\n",
       "      <td>6.0</td>\n",
       "    </tr>\n",
       "    <tr>\n",
       "      <th>95</th>\n",
       "      <td>uva</td>\n",
       "      <td>5.0</td>\n",
       "    </tr>\n",
       "    <tr>\n",
       "      <th>96</th>\n",
       "      <td>pepino</td>\n",
       "      <td>2.0</td>\n",
       "    </tr>\n",
       "  </tbody>\n",
       "</table>\n",
       "<p>97 rows × 2 columns</p>\n",
       "</div>"
      ],
      "text/plain": [
       "               alimento  aporte_calorico_kcal\n",
       "0           hamburguesa                 954.0\n",
       "1   chocolate con leche                 864.0\n",
       "2        pan de plátano                 820.0\n",
       "3                  nuez                 593.0\n",
       "4                 pizza                 591.0\n",
       "..                  ...                   ...\n",
       "92              guayaba                   9.0\n",
       "93               rábano                   6.0\n",
       "94             calabaza                   6.0\n",
       "95                  uva                   5.0\n",
       "96               pepino                   2.0\n",
       "\n",
       "[97 rows x 2 columns]"
      ]
     },
     "execution_count": 39,
     "metadata": {},
     "output_type": "execute_result"
    }
   ],
   "source": [
    "data_alim.groupby('alimento')['aporte_calorico_kcal'].mean().sort_values(ascending=False).reset_index()"
   ]
  },
  {
   "cell_type": "markdown",
   "id": "de71effc-632e-4247-823b-c5dff0cf2159",
   "metadata": {},
   "source": [
    "Aquel valor de aporte calórico tal que el 50% de los alimentos del dataset presentan aportes calóricos menores o iguales a él."
   ]
  },
  {
   "cell_type": "code",
   "execution_count": 41,
   "id": "de735d0f-ee83-4759-b6a5-67bfc4d04648",
   "metadata": {},
   "outputs": [
    {
     "data": {
      "text/plain": [
       "66.0"
      ]
     },
     "execution_count": 41,
     "metadata": {},
     "output_type": "execute_result"
    }
   ],
   "source": [
    "data_alim['aporte_calorico_kcal'].median()"
   ]
  },
  {
   "cell_type": "markdown",
   "id": "6816acf7-0681-48cf-a0b7-e49586cf9f70",
   "metadata": {},
   "source": [
    "La dispersión o variabilidad del 50% central de las observaciones."
   ]
  },
  {
   "cell_type": "code",
   "execution_count": 43,
   "id": "a3eebf2c-268f-4565-aed3-a46b6ff9d4a0",
   "metadata": {},
   "outputs": [
    {
     "data": {
      "text/plain": [
       "62.0"
      ]
     },
     "execution_count": 43,
     "metadata": {},
     "output_type": "execute_result"
    }
   ],
   "source": [
    "# Si se quiere ver la variabilidad de 50% de los datos, se debe buscar el IQR (rango intercuartílico)\n",
    "q3 = data_alim['aporte_calorico_kcal'].quantile(0.75)\n",
    "q1 = data_alim['aporte_calorico_kcal'].quantile(0.25)\n",
    "q3-q1"
   ]
  },
  {
   "cell_type": "markdown",
   "id": "17a41bd0-7acc-44a9-a37c-e5b4d3ebae97",
   "metadata": {},
   "source": [
    "El o los valores que se presentan con mayor frecuencia entre las observaciones."
   ]
  },
  {
   "cell_type": "code",
   "execution_count": 45,
   "id": "a4168222-99d2-40f2-9528-cd34a0fd4b54",
   "metadata": {},
   "outputs": [
    {
     "data": {
      "text/plain": [
       "0    20\n",
       "1    75\n",
       "Name: aporte_calorico_kcal, dtype: int64"
      ]
     },
     "execution_count": 45,
     "metadata": {},
     "output_type": "execute_result"
    }
   ],
   "source": [
    "data_alim['aporte_calorico_kcal'].mode()"
   ]
  },
  {
   "cell_type": "markdown",
   "id": "feeee16d-8e94-4d74-b993-5af78d1decac",
   "metadata": {},
   "source": [
    "**Represente la distribución de las observaciones de la variable aporte_calorico_kcal a través de un boxplot.**"
   ]
  },
  {
   "cell_type": "code",
   "execution_count": 47,
   "id": "c5b85c15-43fd-4a09-a4f2-e022cb47677c",
   "metadata": {},
   "outputs": [
    {
     "data": {
      "image/png": "[encoded data removed]",
      "text/plain": [
       "<Figure size 1000x200 with 1 Axes>"
      ]
     },
     "metadata": {},
     "output_type": "display_data"
    }
   ],
   "source": [
    "plt.figure(figsize=(10,2))\n",
    "sns.boxplot(x=data_alim['aporte_calorico_kcal'])\n",
    "plt.title('Boxplot sobre el aporte calórico')\n",
    "plt.xlabel('Calorías')\n",
    "plt.show()"
   ]
  },
  {
   "cell_type": "markdown",
   "id": "6217dc63-c54f-4dea-8648-7b0c82164337",
   "metadata": {},
   "source": [
    "¿Cómo caracterizaría a la distribución en relación a sus características de simetría?\n",
    "\n",
    "*La variable tiene una distribución con asimetría con cola hacia la derecha. Asimismo, el tramo entre el primer cuartil y la mediana parece menos amplio que entre la mediana y el tercer cuatril, por poca diferencia. Los valores máximos no alcanzan los 200 puntos. Sin embargo, posee muchos valores atípicos que sobrepasan este último, llegando a más de 900.*\r\n",
    "\r\n",
    "En función a lo observado, ¿qué par de medidas de centralidad/posición (media aritmética - mediana) y de dispersión (rango intercuartil - rango - desviación estándar) le parece más adecuada para describir a este conjunt\n",
    "\n",
    "*Teniendo en cuenta que la media y la desviación estándar son sensibles a los valores atípicos, deberían ser medidas desestimadas para esta variable. En este boxplot se observan muchos valores atípicos grandes, por lo que sería mejor describir esta distribución a través de la mediana y el rango intercuartílico ya que son más robustas.*\n",
    "ión?"
   ]
  },
  {
   "cell_type": "markdown",
   "id": "08818e73-cc81-494b-a436-87aee712195d",
   "metadata": {},
   "source": [
    "**¿Qué tipo de alimento presenta la mayor mediana de aporte calórico?**"
   ]
  },
  {
   "cell_type": "code",
   "execution_count": 50,
   "id": "c2569529-9221-4184-90b0-16f05e965bf0",
   "metadata": {},
   "outputs": [
    {
     "data": {
      "text/plain": [
       "tipo_de_alimento\n",
       "elaborada     217.0\n",
       "fruto seco    113.0\n",
       "fruta          55.0\n",
       "animal         49.5\n",
       "verdura        37.0\n",
       "Name: aporte_calorico_kcal, dtype: float64"
      ]
     },
     "execution_count": 50,
     "metadata": {},
     "output_type": "execute_result"
    }
   ],
   "source": [
    "data_alim.groupby('tipo_de_alimento')['aporte_calorico_kcal'].median().sort_values(ascending=False)"
   ]
  },
  {
   "cell_type": "markdown",
   "id": "a6f42c39-be27-4076-bc7b-2aee0248cc5d",
   "metadata": {},
   "source": [
    "**Realice un boxplot para representar la distribución de los aportes calóricos de alimentos de los siguientes tipos: frutas, verduras y alimentos elaborados.**"
   ]
  },
  {
   "cell_type": "code",
   "execution_count": 52,
   "id": "4fe4a69b-e95a-4d3e-aaed-2b453d586756",
   "metadata": {},
   "outputs": [],
   "source": [
    "alim_selec = data_alim[\n",
    "data_alim['tipo_de_alimento'].isin(['fruta', 'verdura', 'elaborada'])][['tipo_de_alimento','aporte_calorico_kcal']]"
   ]
  },
  {
   "cell_type": "code",
   "execution_count": 53,
   "id": "8de60751-5010-49c2-b986-d61db2b49082",
   "metadata": {},
   "outputs": [
    {
     "data": {
      "image/png": "[encoded data removed]",
      "text/plain": [
       "<Figure size 1000x600 with 1 Axes>"
      ]
     },
     "metadata": {},
     "output_type": "display_data"
    }
   ],
   "source": [
    "plt.figure(figsize=(10, 6))\n",
    "sns.boxplot(x='tipo_de_alimento', y='aporte_calorico_kcal', data=alim_selec)\n",
    "plt.xticks(rotation=0)\n",
    "plt.title('Distribución de tipos de alimentos')\n",
    "plt.show()"
   ]
  },
  {
   "cell_type": "markdown",
   "id": "436d57cc-088f-47ed-8ecf-c1d2c42807a4",
   "metadata": {},
   "source": [
    "¿Qué tipo de alimentos presenta valores calóricos más variables y cuál menos variables?\n",
    "\n",
    "*Los alimentos elabodos presentan más variación, seguido por las frutas y luego, las verduras.*\n",
    "\n",
    "¿Qué medida descriptiva utilizó para responder a estas últimas preguntas?\n",
    "\n",
    "*Se tuvo en cuenta la variabilidad de los cuartiles y los rangos de cada tipo de alimento.*"
   ]
  },
  {
   "cell_type": "markdown",
   "id": "0925f1e5-5f89-4f82-ad2f-1d9ac9315924",
   "metadata": {},
   "source": [
    "**Utilizando los datos de los/las pacientes, genere una variable que corresponda a la variación de peso para cada paciente a lo largo del tratamiento (peso_final_kg - peso_inicial_kg).**"
   ]
  },
  {
   "cell_type": "code",
   "execution_count": 56,
   "id": "be2bed2d-2994-409d-b0c4-6e51d0412ec9",
   "metadata": {},
   "outputs": [
    {
     "data": {
      "text/html": [
       "<div>\n",
       "<style scoped>\n",
       "    .dataframe tbody tr th:only-of-type {\n",
       "        vertical-align: middle;\n",
       "    }\n",
       "\n",
       "    .dataframe tbody tr th {\n",
       "        vertical-align: top;\n",
       "    }\n",
       "\n",
       "    .dataframe thead th {\n",
       "        text-align: right;\n",
       "    }\n",
       "</style>\n",
       "<table border=\"1\" class=\"dataframe\">\n",
       "  <thead>\n",
       "    <tr style=\"text-align: right;\">\n",
       "      <th></th>\n",
       "      <th>codigo_paciente</th>\n",
       "      <th>peso_inicial_kg</th>\n",
       "      <th>peso_final_kg</th>\n",
       "      <th>altura_m</th>\n",
       "      <th>sexo</th>\n",
       "      <th>tiempo_tratamiento_dias</th>\n",
       "      <th>diferencia_peso</th>\n",
       "    </tr>\n",
       "  </thead>\n",
       "  <tbody>\n",
       "    <tr>\n",
       "      <th>0</th>\n",
       "      <td>398911</td>\n",
       "      <td>78</td>\n",
       "      <td>72</td>\n",
       "      <td>1.80</td>\n",
       "      <td>F</td>\n",
       "      <td>583</td>\n",
       "      <td>-6</td>\n",
       "    </tr>\n",
       "    <tr>\n",
       "      <th>1</th>\n",
       "      <td>398912</td>\n",
       "      <td>68</td>\n",
       "      <td>68</td>\n",
       "      <td>1.75</td>\n",
       "      <td>F</td>\n",
       "      <td>159</td>\n",
       "      <td>0</td>\n",
       "    </tr>\n",
       "    <tr>\n",
       "      <th>2</th>\n",
       "      <td>398913</td>\n",
       "      <td>92</td>\n",
       "      <td>70</td>\n",
       "      <td>1.85</td>\n",
       "      <td>F</td>\n",
       "      <td>70</td>\n",
       "      <td>-22</td>\n",
       "    </tr>\n",
       "    <tr>\n",
       "      <th>3</th>\n",
       "      <td>398914</td>\n",
       "      <td>66</td>\n",
       "      <td>64</td>\n",
       "      <td>1.65</td>\n",
       "      <td>M</td>\n",
       "      <td>41</td>\n",
       "      <td>-2</td>\n",
       "    </tr>\n",
       "    <tr>\n",
       "      <th>4</th>\n",
       "      <td>398915</td>\n",
       "      <td>51</td>\n",
       "      <td>50</td>\n",
       "      <td>1.55</td>\n",
       "      <td>F</td>\n",
       "      <td>30</td>\n",
       "      <td>-1</td>\n",
       "    </tr>\n",
       "  </tbody>\n",
       "</table>\n",
       "</div>"
      ],
      "text/plain": [
       "   codigo_paciente  peso_inicial_kg  peso_final_kg  altura_m sexo  \\\n",
       "0           398911               78             72      1.80    F   \n",
       "1           398912               68             68      1.75    F   \n",
       "2           398913               92             70      1.85    F   \n",
       "3           398914               66             64      1.65    M   \n",
       "4           398915               51             50      1.55    F   \n",
       "\n",
       "   tiempo_tratamiento_dias  diferencia_peso  \n",
       "0                      583               -6  \n",
       "1                      159                0  \n",
       "2                       70              -22  \n",
       "3                       41               -2  \n",
       "4                       30               -1  "
      ]
     },
     "execution_count": 56,
     "metadata": {},
     "output_type": "execute_result"
    }
   ],
   "source": [
    "data_pac['diferencia_peso'] = data_pac['peso_final_kg'] - data_pac['peso_inicial_kg']\n",
    "data_pac.head(5)"
   ]
  },
  {
   "cell_type": "markdown",
   "id": "8ba07fbb-e836-4280-8b67-910af90381bb",
   "metadata": {},
   "source": [
    "Represente los valores observados de la variable “diferencia de peso” en función del sexo a través de un boxplot."
   ]
  },
  {
   "cell_type": "code",
   "execution_count": 58,
   "id": "1d065b2f-8e08-4ce6-b5dd-317647885a1f",
   "metadata": {},
   "outputs": [],
   "source": [
    "dif_peso_boxplot = data_pac[['sexo','diferencia_peso']]"
   ]
  },
  {
   "cell_type": "code",
   "execution_count": 59,
   "id": "4df5bf14-dfa3-44f6-83cc-2bf28ffea89d",
   "metadata": {},
   "outputs": [
    {
     "data": {
      "image/png": "[encoded data removed]",
      "text/plain": [
       "<Figure size 800x600 with 1 Axes>"
      ]
     },
     "metadata": {},
     "output_type": "display_data"
    }
   ],
   "source": [
    "plt.figure(figsize=(8,6))\n",
    "sns.boxplot(x='sexo', y='diferencia_peso', data=dif_peso_boxplot, palette={'F':'orchid', 'M':'skyblue'})\n",
    "plt.title('Variación de peso, según sexo')\n",
    "plt.show()"
   ]
  },
  {
   "cell_type": "markdown",
   "id": "6a4bdcea-4aa1-46c2-81df-fef83e669051",
   "metadata": {},
   "source": [
    "¿Qué medida descriptiva utilizaría para comparar los resultados del tratamiento entre personas de ambos sexos? En función de su respuesta, ¿las personas de qué sexo obtuvieron los mejores resultados para el tratamiento?\n",
    "\n",
    "*Dado a que los datos relativos al sector femenino posee valores atípicos, dos medidas que podrían funcionar para comparar los resultados serían la mediana y el rango intercuartílico. En función de esta decisión, si se observa la mediana de ambas, se concluye que el grupo masculino obtuvo mejores niveles de pérdida de peso. Sin embargo, si observamos el tamaño de la caja de ambos sexos, la que tuvo más dispersión fue el grupo masculino. POr lo tanto, si bien tuvo mejores resultados en términos generales, también se puede afirmar que tuvo más variedad de pérdia y subida de peso. Por lo tanto, si bien el grupo femenino tuvo menores resultados, logró ser más uniforme o consistente.*"
   ]
  },
  {
   "cell_type": "markdown",
   "id": "15a165b7-256d-4bb1-b96d-ca5946a5fe30",
   "metadata": {},
   "source": [
    "            "
   ]
  },
  {
   "cell_type": "markdown",
   "id": "5d9986ea-7010-403a-b44a-87e9dddc8c5f",
   "metadata": {},
   "source": [
    "**Teniendo en cuenta la variable altura_m que se encuentra en el dataset pacientes.csv, genere una tabla de frecuencias en la que las observaciones se encuentren segmentadas en subintervalos de 10 cm de amplitud que estén “cerrados por izquierda”, es decir, que tengan la forma [extremo_inferior, extremo_superior).**\r\n",
    "\r\n",
    "La tabla de frecuencias generada deberá contener columnas en las que se especifiquen las frecuencias absolutas, relativas y relativas acumuladas correspondientes a cada subintervalo. ¿Qué porcentaje de las personas del dataset tienen una altura menor a 1.8 m?"
   ]
  },
  {
   "cell_type": "code",
   "execution_count": 131,
   "id": "3f3cc132-ba75-48df-b12b-992780a3dd3b",
   "metadata": {},
   "outputs": [],
   "source": [
    "cortes = [1.50, 1.60, 1.70, 1.80, 1.90, 2]\n",
    "labels = ['[1.50,1.60)', '[1.60,1.70)', '[1.70,1.80)', '[1.80,1.90)', '[1.90,2)']"
   ]
  },
  {
   "cell_type": "code",
   "execution_count": 209,
   "id": "112b6a1e-6132-4faf-be34-1ec403b47b9e",
   "metadata": {},
   "outputs": [],
   "source": [
    "conteo_alt = data_pac[['altura_m']].value_counts().sort_index().reset_index()"
   ]
  },
  {
   "cell_type": "code",
   "execution_count": 213,
   "id": "e46380a1-7e12-4d1b-a37b-33b3e054dd08",
   "metadata": {},
   "outputs": [],
   "source": [
    "frec_altura_m['segmento'] = pd.cut(frec_altura_m['altura_m'], bins=cortes, labels=labels, right=False)"
   ]
  },
  {
   "cell_type": "code",
   "execution_count": 233,
   "id": "bcd6a5d1-0ac5-49b0-9c53-a97c4f32df09",
   "metadata": {},
   "outputs": [
    {
     "data": {
      "text/html": [
       "<div>\n",
       "<style scoped>\n",
       "    .dataframe tbody tr th:only-of-type {\n",
       "        vertical-align: middle;\n",
       "    }\n",
       "\n",
       "    .dataframe tbody tr th {\n",
       "        vertical-align: top;\n",
       "    }\n",
       "\n",
       "    .dataframe thead th {\n",
       "        text-align: right;\n",
       "    }\n",
       "</style>\n",
       "<table border=\"1\" class=\"dataframe\">\n",
       "  <thead>\n",
       "    <tr style=\"text-align: right;\">\n",
       "      <th></th>\n",
       "      <th>segmento</th>\n",
       "      <th>count</th>\n",
       "      <th>frec_relat</th>\n",
       "      <th>frec_relat_acum</th>\n",
       "    </tr>\n",
       "  </thead>\n",
       "  <tbody>\n",
       "    <tr>\n",
       "      <th>0</th>\n",
       "      <td>[1.50,1.60)</td>\n",
       "      <td>12</td>\n",
       "      <td>24.0</td>\n",
       "      <td>24.0</td>\n",
       "    </tr>\n",
       "    <tr>\n",
       "      <th>1</th>\n",
       "      <td>[1.60,1.70)</td>\n",
       "      <td>17</td>\n",
       "      <td>34.0</td>\n",
       "      <td>58.0</td>\n",
       "    </tr>\n",
       "    <tr>\n",
       "      <th>2</th>\n",
       "      <td>[1.70,1.80)</td>\n",
       "      <td>12</td>\n",
       "      <td>24.0</td>\n",
       "      <td>82.0</td>\n",
       "    </tr>\n",
       "    <tr>\n",
       "      <th>3</th>\n",
       "      <td>[1.80,1.90)</td>\n",
       "      <td>7</td>\n",
       "      <td>14.0</td>\n",
       "      <td>96.0</td>\n",
       "    </tr>\n",
       "    <tr>\n",
       "      <th>4</th>\n",
       "      <td>[1.90,2)</td>\n",
       "      <td>2</td>\n",
       "      <td>4.0</td>\n",
       "      <td>100.0</td>\n",
       "    </tr>\n",
       "  </tbody>\n",
       "</table>\n",
       "</div>"
      ],
      "text/plain": [
       "      segmento  count  frec_relat  frec_relat_acum\n",
       "0  [1.50,1.60)     12        24.0             24.0\n",
       "1  [1.60,1.70)     17        34.0             58.0\n",
       "2  [1.70,1.80)     12        24.0             82.0\n",
       "3  [1.80,1.90)      7        14.0             96.0\n",
       "4     [1.90,2)      2         4.0            100.0"
      ]
     },
     "execution_count": 233,
     "metadata": {},
     "output_type": "execute_result"
    }
   ],
   "source": [
    "tabla_alt = pd.merge(frec_altura_m, conteo_alt, on='altura_m', how='inner')\n",
    "tabla_alt = tabla_alt.groupby('segmento')['count'].sum().reset_index()\n",
    "tabla_alt['frec_relat'] = (tabla_alt['count']/tabla_alt['count'].sum())*100\n",
    "tabla_alt['frec_relat_acum'] = tabla_alt['frec_relat'].cumsum()\n",
    "tabla_alt"
   ]
  },
  {
   "cell_type": "markdown",
   "id": "d78f65a8-5a99-4593-acc3-81e89b09e5ec",
   "metadata": {},
   "source": [
    "______________"
   ]
  },
  {
   "cell_type": "markdown",
   "id": "6d6e6fef-9728-4dbd-aa82-99f63a2ebccd",
   "metadata": {},
   "source": [
    "**Utilizando el dataset calidad_producto.csv, que contiene dos variables registradas en el área de control de calidad de una industria:**\n",
    "\n",
    "- \r\n",
    "desviacion_largo: desviación del largo del producto respecto a un valor estándar o desead\n",
    "  .- \r\n",
    "\r\n",
    "indice_calidad_producto: índice o puntuación que se construye a partir de una serie de aspectos relacionados a la calidad general del producto."
   ]
  },
  {
   "cell_type": "code",
   "execution_count": 247,
   "id": "807a6820-bd2f-4b7d-819b-e321e1410351",
   "metadata": {},
   "outputs": [],
   "source": [
    "data_calidad = pd.read_csv(r'C:\\Users\\icrui\\Documents\\DS-ML\\FCEIA\\3° cuatrimestre\\Fundamentos_Cs_Datos\\Unidad3\\Datasets\\calidad_producto.csv', sep=';')"
   ]
  },
  {
   "cell_type": "markdown",
   "id": "af2dd3b2-d815-4a42-8184-7ee07d2e5bdf",
   "metadata": {},
   "source": [
    "**Calcule los coeficientes de correlación de Pearson y Spearman entre ambas variables. Interprete los valores obtenidos en relación al tipo de información que le brinda cada uno acerca del grado de asociación entre las variables.**"
   ]
  },
  {
   "cell_type": "code",
   "execution_count": 260,
   "id": "49bd774a-fb95-459b-a9c4-4a4f11b28940",
   "metadata": {},
   "outputs": [],
   "source": [
    "pearson = data_calidad['desviacion_largo'].corr(data_calidad['indice_calidad_producto'])"
   ]
  },
  {
   "cell_type": "code",
   "execution_count": 262,
   "id": "b2b2053c-5b5d-417b-bd00-398d1618e2c7",
   "metadata": {},
   "outputs": [],
   "source": [
    "spearman = data_calidad['desviacion_largo'].corr(data_calidad['indice_calidad_producto'], method='spearman')"
   ]
  },
  {
   "cell_type": "code",
   "execution_count": 276,
   "id": "5e4f939b-4374-4774-a03e-34bf4455022e",
   "metadata": {},
   "outputs": [
    {
     "name": "stdout",
     "output_type": "stream",
     "text": [
      "Teniendo en cuenta las variables del dataset seleccionado, el resultado de la correlación de Pearson es 0.56. El de Spearman es 0.94\n",
      "Esto quiere decir que la realción entre ellas es moderada y positiva, en el primer caso. En el segundo caso, la relación es muy fuerte y positiva.\n"
     ]
    }
   ],
   "source": [
    "print(f\"Teniendo en cuenta las variables del dataset seleccionado, el resultado de la correlación de Pearson es {round(pearson, 2)}. El de Spearman es {round(spearman, 2)}\")\n",
    "print(\"Esto quiere decir que la realción entre ellas es moderada y positiva, en el primer caso. En el segundo caso, la relación es muy fuerte y positiva.\")"
   ]
  },
  {
   "cell_type": "markdown",
   "id": "21b6487b-12a9-4c94-b48f-4212f806b75f",
   "metadata": {},
   "source": [
    "**Construya un gráfico que le permita visualizar la relación general que existe entre las variables analizadas. ¿Qué observa?**"
   ]
  },
  {
   "cell_type": "code",
   "execution_count": 296,
   "id": "3910ccfc-0259-41b0-bfc4-5609708e5e4d",
   "metadata": {},
   "outputs": [
    {
     "data": {
      "image/png": "[encoded data removed]",
      "text/plain": [
       "<Figure size 600x400 with 1 Axes>"
      ]
     },
     "metadata": {},
     "output_type": "display_data"
    }
   ],
   "source": [
    "plt.figure(figsize=(6, 4))\n",
    "sns.scatterplot(x=data_calidad['desviacion_largo'], y=data_calidad['indice_calidad_producto'], color='purple', edgecolor='black')\n",
    "plt.title('Relación entre la desviación y el índice de calidad')\n",
    "plt.xlabel('Desviación')\n",
    "plt.ylabel('Índice de calidad')\n",
    "plt.show()"
   ]
  },
  {
   "cell_type": "markdown",
   "id": "9eec5ff5-a652-4b52-a461-51e401787665",
   "metadata": {},
   "source": [
    "**Calcule nuevamente ambos coeficientes sin tomar en cuenta los registros que incluyan observaciones potencialmente atípicas. ¿Cómo resultan los valores obtenidos en comparación con los calculados en el ítem 1?**"
   ]
  },
  {
   "cell_type": "code",
   "execution_count": 306,
   "id": "3e761426-120d-47ee-bff4-4bef42d5879a",
   "metadata": {},
   "outputs": [],
   "source": [
    "x = data_calidad['desviacion_largo']\n",
    "y = data_calidad['indice_calidad_producto']\n",
    "\n",
    "def sin_atipicos(columna):\n",
    "    q1 = columna.quantile(0.25)\n",
    "    q3 = columna.quantile(0.75)\n",
    "    iqr = q3-q1\n",
    "    pt_izq = q1 - 1.5 * iqr\n",
    "    pt_der = q3 + 1.5 * iqr\n",
    "    return (columna >= pt_izq) & (columna <= pt_der)\n",
    "\n",
    "limites = sin_atipicos(x) & sin_atipicos(y)\n",
    "x_sin_out = x[limites]\n",
    "y_sin_out = y[limites]"
   ]
  },
  {
   "cell_type": "code",
   "execution_count": 312,
   "id": "64262c2b-ce38-4ca0-ae37-8ec394e4d04d",
   "metadata": {},
   "outputs": [
    {
     "data": {
      "text/plain": [
       "0.9017429177432877"
      ]
     },
     "execution_count": 312,
     "metadata": {},
     "output_type": "execute_result"
    }
   ],
   "source": [
    "pearson_sin_out = x_sin_out.corr(y_sin_out)\n",
    "pearson_sin_out"
   ]
  },
  {
   "cell_type": "code",
   "execution_count": 316,
   "id": "d1fc25d2-81e0-4ae1-901c-13e93f7fa97f",
   "metadata": {},
   "outputs": [
    {
     "data": {
      "text/plain": [
       "0.9504631206604113"
      ]
     },
     "execution_count": 316,
     "metadata": {},
     "output_type": "execute_result"
    }
   ],
   "source": [
    "spearman_sin_out = x_sin_out.corr(y_sin_out, method='spearman')\n",
    "spearman_sin_out"
   ]
  },
  {
   "cell_type": "code",
   "execution_count": 320,
   "id": "21e8788a-e784-4261-94d4-c57e58181e42",
   "metadata": {},
   "outputs": [
    {
     "data": {
      "image/png": "[encoded data removed]",
      "text/plain": [
       "<Figure size 600x400 with 1 Axes>"
      ]
     },
     "metadata": {},
     "output_type": "display_data"
    }
   ],
   "source": [
    "plt.figure(figsize=(6, 4))\n",
    "sns.scatterplot(x=x_sin_out, y=y_sin_out, color='purple', edgecolor='black')\n",
    "plt.title('Relación entre la desviación y el índice de calidad - sin outliers')\n",
    "plt.xlabel('Desviación')\n",
    "plt.ylabel('Índice de calidad')\n",
    "plt.show()"
   ]
  }
 ],
 "metadata": {
  "kernelspec": {
   "display_name": "Python [conda env:base] *",
   "language": "python",
   "name": "conda-base-py"
  },
  "language_info": {
   "codemirror_mode": {
    "name": "ipython",
    "version": 3
   },
   "file_extension": ".py",
   "mimetype": "text/x-python",
   "name": "python",
   "nbconvert_exporter": "python",
   "pygments_lexer": "ipython3",
   "version": "3.11.5"
  }
 },
 "nbformat": 4,
 "nbformat_minor": 5
}
