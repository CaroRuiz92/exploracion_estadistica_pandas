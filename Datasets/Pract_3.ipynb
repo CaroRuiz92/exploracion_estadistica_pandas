{
 "cells": [
  {
   "cell_type": "markdown",
   "id": "e3649821-8dfe-419f-9f7d-d7a9ff51f2d8",
   "metadata": {},
   "source": [
    "### Ejercicio N° 1"
   ]
  }
 ],
 "metadata": {
  "kernelspec": {
   "display_name": "Python [conda env:base] *",
   "language": "python",
   "name": "conda-base-py"
  },
  "language_info": {
   "codemirror_mode": {
    "name": "ipython",
    "version": 3
   },
   "file_extension": ".py",
   "mimetype": "text/x-python",
   "name": "python",
   "nbconvert_exporter": "python",
   "pygments_lexer": "ipython3",
   "version": "3.11.5"
  }
 },
 "nbformat": 4,
 "nbformat_minor": 5
}
